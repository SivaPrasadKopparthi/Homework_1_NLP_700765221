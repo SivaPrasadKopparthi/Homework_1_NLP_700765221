{
 "cells": [
  {
   "cell_type": "markdown",
   "id": "0a518afb",
   "metadata": {},
   "source": [
    "# CS5760 - Homework 1\n",
    "---\n",
    "Student: Sai Siva Shankara Vara Prasad Kopparthi\n",
    "ID: 700765221\n"
   ]
  },
  {
   "cell_type": "markdown",
   "id": "8eb77120",
   "metadata": {},
   "source": [
    "## Q1. Regex\n",
    "Write regex patterns and test them."
   ]
  },
  {
   "cell_type": "code",
   "execution_count": 21,
   "id": "caee1d81",
   "metadata": {},
   "outputs": [
    {
     "name": "stdout",
     "output_type": "stream",
     "text": [
      "Zip codes found: ['54321', '54321-9876', '54321 9876']\n",
      "Lowercase-initial words: ['office', 'include', '-', 'and', 'words', 'don’t', 'mother-in-law', 'orange', 'zebra', 'appear', 'as', '-', 'to', 'check', 'email', 'e-mail', 'e', 'mail', 'shout', 'go', 'gooo', 'gooooo', 'go', 'go', 'this', 'really', 'correct']\n",
      "Numbers detected: ['543', '21', '543', '21', '-987', '6', '543', '21', '987', '6', '-9,876.54', '+321', '0.99', '2.5e+8', '6E-3']\n",
      "Email spellings: ['email', 'e-mail', 'E Mail', 'e–mail', 'EMAIL']\n",
      "Go-like words: ['go', 'gooo', 'gooooo', 'go', 'go']\n",
      "Question-style endings: ['?']\n"
     ]
    }
   ],
   "source": [
    "import re\n",
    "\n",
    "text = \"\"\" Our office ZIPs include 54321, 54321-9876, and 54321 9876.\n",
    "Some words: London, don’t, mother-in-law, orange, zebra.\n",
    "Numbers appear as: -9,876.54, +321, 0.99, 2.5e+8, 6E-3\n",
    "Spellings to check: email, e-mail, E Mail, e–mail, EMAIL\n",
    "People shout: go, gooo, gooooo! go, go?\n",
    "Is this really correct? ”)\n",
    "\"\"\"\n",
    "\n",
    "# 1. U.S. postal codes\n",
    "pattern_zip = r\"\\b\\d{5}(?:[-\\s]\\d{4})?\\b\"\n",
    "print(\"Zip codes found:\", re.findall(pattern_zip, text))\n",
    "\n",
    "# 2. Words starting with lowercase\n",
    "pattern_lowercase = r\"\\b(?![A-Z])[A-Za-z’\\'-]+\\b\"\n",
    "print(\"Lowercase-initial words:\", re.findall(pattern_lowercase, text))\n",
    "\n",
    "# 3. Different number formats\n",
    "pattern_number = r\"[+-]?\\d{1,3}(?:,\\d{3})*(?:\\.\\d+)?(?:[eE][+-]?\\d+)?\"\n",
    "print(\"Numbers detected:\", re.findall(pattern_number, text))\n",
    "\n",
    "# 4. Variations of 'email'\n",
    "pattern_email = r\"(?i)e[ \\-–]?mail\"\n",
    "print(\"Email spellings:\", re.findall(pattern_email, text))\n",
    "\n",
    "# 5. Repeated 'go' with punctuation\n",
    "pattern_go = r\"\\bgo+[!\\.,\\?]?\\b\"\n",
    "print(\"Go-like words:\", re.findall(pattern_go, text))\n",
    "\n",
    "# 6. Questions at line ends\n",
    "pattern_question = r\"\\?['\\\")\\]\\s]*$\"\n",
    "print(\"Question-style endings:\", re.findall(pattern_question, text, re.MULTILINE))"
   ]
  },
  {
   "cell_type": "markdown",
   "id": "80510c5d",
   "metadata": {},
   "source": [
    "## Q2. Tokenization\n",
    "Tokenize a paragraph manually and with a tool, compare results, identify MWEs.\n",
    "\n",
    "**Example Telugu Paragraph:**\n",
    "\n",
    "నేను హైదరాబాద్ లో చదువుతున్నాను. \n",
    "\n",
    "నా స్నేహితుడు తెలుగు సినిమాలు చూడడం ఇష్టపడతాడు. \n",
    "\n",
    "మేము ప్రతి వారాంతం కలిసి బయటికి వెళ్తాము.\n",
    "\n",
    "\n",
    "**Translation (for your understanding):**\n",
    "\n",
    "I am studying in Hyderabad.\n",
    "\n",
    "My friend likes watching Telugu movies.\n",
    "\n",
    "We go out together every weekend."
   ]
  },
  {
   "cell_type": "code",
   "execution_count": 22,
   "id": "96c4a0c8",
   "metadata": {},
   "outputs": [
    {
     "name": "stdout",
     "output_type": "stream",
     "text": [
      "Space-based tokens: ['నేను', 'హైదరాబాద్', 'లో', 'చదువుతున్నాను.', 'నా', 'స్నేహితుడు', 'తెలుగు', 'సినిమాలు', 'చూడడం', 'ఇష్టపడతాడు.', 'మేము', 'ప్రతి', 'వారాంతం', 'కలిసి', 'బయటికి', 'వెళ్తాము.']\n",
      "Manually cleaned tokens: ['నేను', 'హైదరాబాద్', 'లో', 'చదువుతున్నాను', 'నా', 'స్నేహితుడు', 'తెలుగు', 'సినిమాలు', 'చూడడం', 'ఇష్టపడతాడు', 'మేము', 'ప్రతి', 'వారాంతం', 'కలిసి', 'బయటికి', 'వెళ్తాము']\n",
      "NLTK tokens: ['నేను', 'హైదరాబాద్', 'లో', 'చదువుతున్నాను', '.', 'నా', 'స్నేహితుడు', 'తెలుగు', 'సినిమాలు', 'చూడడం', 'ఇష్టపడతాడు', '.', 'మేము', 'ప్రతి', 'వారాంతం', 'కలిసి', 'బయటికి', 'వెళ్తాము', '.']\n",
      "Multiword Expressions: ['తెలుగు సినిమాలు', 'ప్రతి వారాంతం', 'హైదరాబాద్ లో']\n"
     ]
    },
    {
     "name": "stderr",
     "output_type": "stream",
     "text": [
      "[nltk_data] Downloading package punkt to\n",
      "[nltk_data]     /Users/sivaprasadkopparthi/nltk_data...\n",
      "[nltk_data]   Package punkt is already up-to-date!\n"
     ]
    }
   ],
   "source": [
    "import nltk\n",
    "from nltk.tokenize import word_tokenize\n",
    "\n",
    "# Telugu paragraph\n",
    "paragraph = \"నేను హైదరాబాద్ లో చదువుతున్నాను. నా స్నేహితుడు తెలుగు సినిమాలు చూడడం ఇష్టపడతాడు. మేము ప్రతి వారాంతం కలిసి బయటికి వెళ్తాము.\"\n",
    "\n",
    "# 1. Naive space-based tokenization\n",
    "space_tokens = paragraph.split(\" \")\n",
    "print(\"Space-based tokens:\", space_tokens)\n",
    "\n",
    "# 2. Manual correction (handling punctuation)\n",
    "manual_tokens = [word.strip(\".,!?\") for word in space_tokens]\n",
    "print(\"Manually cleaned tokens:\", manual_tokens)\n",
    "\n",
    "# 3. NLTK tokenizer (it works for Unicode text too)\n",
    "nltk.download(\"punkt\")\n",
    "tool_tokens = word_tokenize(paragraph)\n",
    "print(\"NLTK tokens:\", tool_tokens)\n",
    "\n",
    "# 4. Multiword Expressions (MWEs in Telugu)\n",
    "mwes = [\"తెలుగు సినిమాలు\", \"ప్రతి వారాంతం\", \"హైదరాబాద్ లో\"]\n",
    "print(\"Multiword Expressions:\", mwes)"
   ]
  },
  {
   "cell_type": "markdown",
   "id": "013c5e4e-b3da-4b3c-aa19-e9435aa2238b",
   "metadata": {},
   "source": [
    "### **Q2. Reflection:**\n",
    " 1. Tokenization in Telugu is harder than English because of compound words and rich morphology.\n",
    " 2. Naïve splitting by spaces often leaves punctuation attached to words.\n",
    " 3. Manual correction improves results, but still misses some cases.\n",
    " 4. Tools like NLTK handle Unicode but may not fully capture Telugu MWEs, so extra care is needed."
   ]
  },
  {
   "cell_type": "markdown",
   "id": "846caae8",
   "metadata": {},
   "source": [
    "## Q3. Byte Pair Encoding (BPE)\n",
    "Perform manual merges, implement mini-BPE, train on paragraph."
   ]
  },
  {
   "cell_type": "code",
   "execution_count": 23,
   "id": "4c6bb5fd",
   "metadata": {},
   "outputs": [
    {
     "name": "stdout",
     "output_type": "stream",
     "text": [
      "Initial toy vocab: Counter({'n e w e r _': 6, 'l o w _': 5, 'w i d e r _': 3, 'l o w e s t _': 2, 'n e w _': 2})\n",
      "Step 1 merge: ('e', 'r')\n",
      "Updated vocab sample: ['l o w _', 'l o w e s t _', 'n e w er _', 'w i d er _', 'n e w _']\n",
      "Step 2 merge: ('er', '_')\n",
      "Updated vocab sample: ['l o w _', 'l o w e s t _', 'n e w er_', 'w i d er_', 'n e w _']\n",
      "Step 3 merge: ('n', 'e')\n",
      "Updated vocab sample: ['l o w _', 'l o w e s t _', 'ne w er_', 'w i d er_', 'ne w _']\n",
      "Merge 1: ('e', 'r')\n",
      "Merge 2: ('er', '_')\n",
      "Merge 3: ('n', 'e')\n",
      "Merge 4: ('ne', 'w')\n",
      "Merge 5: ('l', 'o')\n",
      "Merge 6: ('lo', 'w')\n",
      "Merge 7: ('new', 'er_')\n",
      "Merge 8: ('low', '_')\n",
      "Merge 9: ('w', 'i')\n",
      "Merge 10: ('wi', 'd')\n",
      "new -> ['new', '_']\n",
      "newer -> ['newer_']\n",
      "lowest -> ['low', 'e', 's', 't', '_']\n",
      "wider -> ['wid', 'er_']\n",
      "newestest -> ['new', 'e', 's', 't', 'e', 's', 't', '_']\n",
      "Merge 1: ('a', 'n')\n",
      "Merge 2: ('a', 't')\n",
      "Merge 3: ('e', '_')\n",
      "Merge 4: ('d', '_')\n",
      "Merge 5: ('p', 'r')\n",
      "Merge 6: ('e', 's')\n",
      "Merge 7: ('s', 't')\n",
      "Merge 8: ('t', 'o')\n",
      "Merge 9: ('e', 'r')\n",
      "Merge 10: ('an', 'd_')\n",
      "Merge 11: ('e', 'n')\n",
      "Merge 12: ('l', 'an')\n",
      "Merge 13: ('lan', 'g')\n",
      "Merge 14: ('lang', 'u')\n",
      "Merge 15: ('langu', 'a')\n",
      "Merge 16: ('langua', 'g')\n",
      "Merge 17: ('languag', 'e_')\n",
      "Merge 18: ('pr', 'o')\n",
      "Merge 19: ('pro', 'c')\n",
      "Merge 20: ('proc', 'es')\n",
      "Merge 21: ('proces', 's')\n",
      "Merge 22: ('process', 'i')\n",
      "Merge 23: ('processi', 'n')\n",
      "Merge 24: ('processin', 'g')\n",
      "Merge 25: ('processing', '_')\n",
      "Merge 26: ('to', '_')\n",
      "Merge 27: ('m', 'p')\n",
      "Merge 28: ('s', '_')\n",
      "Merge 29: ('at', 'i')\n",
      "Merge 30: ('ati', 'o')\n",
      "processing -> ['processing_']\n",
      "tokenization -> ['to', 'k', 'en', 'i', 'z', 'atio', 'n', '_']\n",
      "subword -> ['s', 'u', 'b', 'w', 'o', 'r', 'd_']\n",
      "morphological -> ['m', 'o', 'r', 'p', 'h', 'o', 'l', 'o', 'g', 'i', 'c', 'a', 'l', '_']\n",
      "coverage -> ['c', 'o', 'v', 'er', 'a', 'g', 'e_']\n"
     ]
    }
   ],
   "source": [
    "from collections import defaultdict, Counter\n",
    "import re\n",
    "\n",
    "# Build vocab with end-of-word marker\n",
    "def get_vocab_from_corpus(words):\n",
    "    vocab = Counter()\n",
    "    for w in words:\n",
    "        vocab[' '.join(list(w) + ['_'])] += 1\n",
    "    return vocab\n",
    "\n",
    "def get_stats(vocab):\n",
    "    pairs = Counter()\n",
    "    for word, freq in vocab.items():\n",
    "        symbols = word.split()\n",
    "        for i in range(len(symbols)-1):\n",
    "            pairs[(symbols[i], symbols[i+1])] += freq\n",
    "    return pairs\n",
    "\n",
    "def merge_vocab(pair, vocab):\n",
    "    bigram = ' '.join(pair)\n",
    "    pattern = re.compile(r'(?<!\\S)'+re.escape(bigram)+r'(?!\\S)')\n",
    "    new_vocab = {}\n",
    "    for word, freq in vocab.items():\n",
    "        new_word = pattern.sub(''.join(pair), word)\n",
    "        new_vocab[new_word] = freq\n",
    "    return new_vocab\n",
    "\n",
    "def bpe_learn(vocab, num_merges):\n",
    "    merges = []\n",
    "    v = dict(vocab)\n",
    "    for i in range(num_merges):\n",
    "        pairs = get_stats(v)\n",
    "        if not pairs:\n",
    "            break\n",
    "        best = max(pairs.items(), key=lambda x: x[1])[0]\n",
    "        merges.append(best)\n",
    "        v = merge_vocab(best, v)\n",
    "        print(f\"Merge {i+1}: {best}\")\n",
    "    return merges\n",
    "\n",
    "def apply_bpe_to_word(word, merges):\n",
    "    symbols = list(word) + ['_']\n",
    "    for a,b in merges:\n",
    "        i = 0\n",
    "        new = []\n",
    "        while i < len(symbols):\n",
    "            if i < len(symbols)-1 and symbols[i] == a and symbols[i+1] == b:\n",
    "                new.append(a+b)\n",
    "                i += 2\n",
    "            else:\n",
    "                new.append(symbols[i])\n",
    "                i += 1\n",
    "        symbols = new\n",
    "    return symbols\n",
    "\n",
    "# 3.1 Manual merges on toy corpus\n",
    "toy_corpus = \"low low low low low lowest lowest newer newer newer newer newer newer wider wider wider new new\"\n",
    "toy_vocab = get_vocab_from_corpus(toy_corpus.split())\n",
    "print(\"Initial toy vocab:\", toy_vocab)\n",
    "\n",
    "# First 3 merges manually\n",
    "v = toy_vocab\n",
    "for step in range(3):\n",
    "    pairs = get_stats(v)\n",
    "    best = max(pairs.items(), key=lambda x:x[1])[0]\n",
    "    print(f\"Step {step+1} merge: {best}\")\n",
    "    v = merge_vocab(best, v)\n",
    "    print(\"Updated vocab sample:\", list(v.keys())[:5])\n",
    "\n",
    "# 3.2 Mini-BPE learner on toy corpus\n",
    "merges = bpe_learn(toy_vocab, 10)\n",
    "for w in [\"new\", \"newer\", \"lowest\", \"wider\", \"newestest\"]:\n",
    "    print(w, \"->\", apply_bpe_to_word(w, merges))\n",
    "\n",
    "# 3.3 BPE on a paragraph\n",
    "paragraph = \"Natural language processing studies how to teach computers to understand and generate human language. Tokenization and subword segmentation are important preprocessing steps.\"\n",
    "para_vocab = get_vocab_from_corpus(re.findall(r\"\\w+\", paragraph.lower()))\n",
    "para_merges = bpe_learn(para_vocab, 30)\n",
    "\n",
    "for w in [\"processing\", \"tokenization\", \"subword\", \"morphological\", \"coverage\"]:\n",
    "    print(w, \"->\", apply_bpe_to_word(w, para_merges))\n"
   ]
  },
  {
   "attachments": {},
   "cell_type": "markdown",
   "id": "31780f76",
   "metadata": {},
   "source": [
    "**Reflection:** \n",
    "1. BPE learned frequent prefixes (e.g., “sub”), suffixes (e.g., “age_”), and stems (e.g., “wor”).\n",
    "  2. This shows that BPE often captures morpheme-like units in real text.\n",
    "  3. A key advantage is that it reduces vocabulary size while handling rare or derived words.\n",
    "  4. It also generalizes better to unseen words by combining familiar subunits.\n",
    "  5. A drawback is that meaningful words may be split into too many pieces, increasing sequence length.\n",
    "  6. Another issue is that some subwords are arbitrary fragments with little meaning.\n",
    "  7. For English this tradeoff works well, but in highly agglutinative languages the splits may become excessive."
   ]
  },
  {
   "cell_type": "markdown",
   "id": "16bee7cd",
   "metadata": {},
   "source": [
    "## Q4. Edit Distance\n",
    "Find minimum edit distance between 'Sunday' and 'Saturday'."
   ]
  },
  {
   "cell_type": "code",
   "execution_count": 24,
   "id": "6e697d63",
   "metadata": {},
   "outputs": [
    {
     "name": "stdout",
     "output_type": "stream",
     "text": [
      "Model A (Sub=1, Ins=1, Del=1): 3\n",
      "Model B (Sub=2, Ins=1, Del=1): 4\n"
     ]
    }
   ],
   "source": [
    "\n",
    "def edit_distance(s1, s2, sub_cost=1, ins_cost=1, del_cost=1):\n",
    "    m, n = len(s1), len(s2)\n",
    "    dp = [[0]*(n+1) for _ in range(m+1)]\n",
    "\n",
    "    for i in range(m+1):\n",
    "        dp[i][0] = i * del_cost\n",
    "    for j in range(n+1):\n",
    "        dp[0][j] = j * ins_cost\n",
    "\n",
    "    for i in range(1, m+1):\n",
    "        for j in range(1, n+1):\n",
    "            if s1[i-1] == s2[j-1]:\n",
    "                cost = 0\n",
    "            else:\n",
    "                cost = sub_cost\n",
    "            dp[i][j] = min(\n",
    "                dp[i-1][j-1] + cost,\n",
    "                dp[i-1][j] + del_cost,\n",
    "                dp[i][j-1] + ins_cost\n",
    "            )\n",
    "    return dp[m][n]\n",
    "\n",
    "print(\"Model A (Sub=1, Ins=1, Del=1):\", edit_distance(\"Sunday\", \"Saturday\", 1,1,1))\n",
    "print(\"Model B (Sub=2, Ins=1, Del=1):\", edit_distance(\"Sunday\", \"Saturday\", 2,1,1))"
   ]
  },
  {
   "attachments": {},
   "cell_type": "markdown",
   "id": "7ce3e7f0",
   "metadata": {},
   "source": [
    "**Q4. Reflection:**\n",
    "\n",
    "         1. Model A result: Distance = 3.\n",
    "         \n",
    "         2. Model B result: Distance = 4.\n",
    "         \n",
    "         3. The difference comes from the fact that substitution is cheaper in Model A, so the algorithm takes fewer steps. \n",
    "         \n",
    "         4. In Model B, substitution is costly, leading to more insertions and deletions. \n",
    "         \n",
    "         5. This is important in real-world applications: \n",
    "                 o\tSpell check systems should use cheap substitutions since typos often replace one character with another. \n",
    "                 o\tDNA and protein sequence alignment should favor cheaper insertions and deletions because mutations typically involve insertions or deletions rather than substitutions."
   ]
  },
  {
   "cell_type": "code",
   "execution_count": null,
   "id": "e133e15f-3552-4a8c-b1d1-1e9e32c8586e",
   "metadata": {},
   "outputs": [],
   "source": []
  }
 ],
 "metadata": {
  "kernelspec": {
   "display_name": "Python [conda env:base] *",
   "language": "python",
   "name": "conda-base-py"
  },
  "language_info": {
   "codemirror_mode": {
    "name": "ipython",
    "version": 3
   },
   "file_extension": ".py",
   "mimetype": "text/x-python",
   "name": "python",
   "nbconvert_exporter": "python",
   "pygments_lexer": "ipython3",
   "version": "3.13.5"
  }
 },
 "nbformat": 4,
 "nbformat_minor": 5
}
